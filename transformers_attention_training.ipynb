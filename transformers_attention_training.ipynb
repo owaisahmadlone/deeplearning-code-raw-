{
 "cells": [
  {
   "cell_type": "markdown",
   "id": "793ac542-1eff-40b6-bef7-fa31b3e97cfc",
   "metadata": {},
   "source": [
    "### Algorithm: Basic Single-Query Attention\n",
    "\n",
    "**Input**:  \n",
    "- $e \\in \\mathbb{R}^{d_{\\text{in}}}$, vector representation of the current token  \n",
    "- $e_t \\in \\mathbb{R}^{d_{\\text{in}}}$, vector representations of context tokens $t \\in [T]$  \n",
    "\n",
    "**Output**:  \n",
    "- $\\tilde{v} \\in \\mathbb{R}^{d_{\\text{out}}}$, vector representation of the token and context combined.  \n",
    "\n",
    "**Parameters**:  \n",
    "- $W_q, W_k \\in \\mathbb{R}^{d_{\\text{attn}} \\times d_{\\text{in}}}$, $b_q, b_k \\in \\mathbb{R}^{d_{\\text{attn}}}$: the query and key linear projections.  \n",
    "- $W_v \\in \\mathbb{R}^{d_{\\text{out}} \\times d_{\\text{in}}}$, $b_v \\in \\mathbb{R}^{d_{\\text{out}}}$: the value linear projection.\n",
    "\n",
    "---\n",
    "\n",
    "**Steps**:\n",
    "\n",
    "1. $q \\gets W_q e + b_q$\n",
    "2. $\\forall t: k_t \\gets W_k e_t + b_k$\n",
    "3. $\\forall t: v_t \\gets W_v e_t + b_v$\n",
    "4. $\\forall t: \\alpha_t = \\frac{\\exp(q^\\top k_t / \\sqrt{d_{\\text{attn}}})}{\\sum_{u} \\exp(q^\\top k_u / \\sqrt{d_{\\text{attn}}})}$\n",
    "5. Return $\\tilde{v} = \\sum_{t=1}^{T} \\alpha_t v_t$\n"
   ]
  },
  {
   "cell_type": "code",
   "execution_count": 21,
   "id": "619c9647-2767-450c-a298-d8770ea8d49c",
   "metadata": {},
   "outputs": [],
   "source": [
    "din = 100\n",
    "T = 10\n",
    "dout = 100\n",
    "dattn = 50"
   ]
  },
  {
   "cell_type": "code",
   "execution_count": 72,
   "id": "18f658b9-cb38-4f0a-96db-06947eec0ebf",
   "metadata": {},
   "outputs": [],
   "source": [
    "import numpy as np\n",
    "import pandas as pd\n",
    "from math import sqrt"
   ]
  },
  {
   "cell_type": "code",
   "execution_count": 3,
   "id": "43aa8c23-82a7-421e-9a8c-04c06e03b7dc",
   "metadata": {},
   "outputs": [],
   "source": [
    "Wq = np.random.rand(dattn, din)\n",
    "Wk = np.random.rand(dattn, din)\n",
    "Wv = np.random.rand(dout, din)\n",
    "bq = np.zeros(dattn)\n",
    "bk = np.zeros(dattn)\n",
    "bv = np.zeros(dout)"
   ]
  },
  {
   "cell_type": "code",
   "execution_count": 5,
   "id": "3a26b399-e387-4d12-852b-b712b24b8282",
   "metadata": {},
   "outputs": [
    {
     "data": {
      "text/plain": [
       "(50, 100)"
      ]
     },
     "execution_count": 5,
     "metadata": {},
     "output_type": "execute_result"
    }
   ],
   "source": [
    "Wq.shape"
   ]
  },
  {
   "cell_type": "code",
   "execution_count": 56,
   "id": "4295decc-1252-44c1-a4cb-a00aff5f3388",
   "metadata": {},
   "outputs": [],
   "source": [
    "def normalise(a):\n",
    "    col_sum = np.sum(a, axis=0)\n",
    "    return a/col_sum"
   ]
  },
  {
   "cell_type": "code",
   "execution_count": 71,
   "id": "97b7d05b-7cb0-44f5-9ebb-f6e9ff3b35ac",
   "metadata": {},
   "outputs": [],
   "source": [
    "from math import sqrt\n",
    "def single_query_attention(e, E):\n",
    "    q = np.matmul(Wq, e) + bq\n",
    "    K = [np.matmul(Wk, et) + bk for et in E]\n",
    "    V = [np.matmul(Wv, et) + bv for et in E]\n",
    "    q, K, V = normalise(q), normalise(K), normalise(V)\n",
    "    su = sum([np.exp(np.dot(q, kt)/sqrt(dattn)) for kt in K])\n",
    "    a = [np.exp(np.dot(q, kt)/sqrt(dattn))/su for kt in K]\n",
    "    Att = a[0]*V[0]\n",
    "    for i in range(1,T):\n",
    "        Att = Att + a[i]*V[i]\n",
    "    return Att"
   ]
  },
  {
   "cell_type": "code",
   "execution_count": 51,
   "id": "d8e37e7c-7f95-4752-9fea-aa90426608c8",
   "metadata": {},
   "outputs": [],
   "source": [
    "e = np.random.rand(din)"
   ]
  },
  {
   "cell_type": "code",
   "execution_count": 52,
   "id": "9e9911b5-9979-4f9e-b698-38630f46a58f",
   "metadata": {},
   "outputs": [
    {
     "data": {
      "text/plain": [
       "1"
      ]
     },
     "execution_count": 52,
     "metadata": {},
     "output_type": "execute_result"
    }
   ],
   "source": [
    "len(e.shape)"
   ]
  },
  {
   "cell_type": "code",
   "execution_count": 53,
   "id": "546f1d37-0c2e-4a02-8452-b8dd65689ecf",
   "metadata": {},
   "outputs": [],
   "source": [
    "E = [np.random.rand(din) for _ in range(T)]"
   ]
  },
  {
   "cell_type": "code",
   "execution_count": 62,
   "id": "c359dc93-5bbf-4cbc-8966-0586ca378633",
   "metadata": {},
   "outputs": [],
   "source": [
    "Att = single_query_attention(e, E)"
   ]
  },
  {
   "cell_type": "code",
   "execution_count": 65,
   "id": "2171bb94-06c7-4b58-a565-0e4d3d614a10",
   "metadata": {},
   "outputs": [
    {
     "data": {
      "text/plain": [
       "array([0.10002971, 0.10002864, 0.10003348, 0.10004385, 0.10002453,\n",
       "       0.10004076, 0.10002649, 0.10004898, 0.10003641, 0.10003001,\n",
       "       0.10003688, 0.10004502, 0.10002855, 0.10004628, 0.10002975,\n",
       "       0.10003923, 0.10004023, 0.10003436, 0.10002789, 0.10003176,\n",
       "       0.10004013, 0.10003578, 0.10001883, 0.10004355, 0.10003441,\n",
       "       0.1000269 , 0.10004233, 0.10002851, 0.10002821, 0.1000321 ,\n",
       "       0.1000355 , 0.10004034, 0.10003454, 0.10003524, 0.10003045,\n",
       "       0.10002056, 0.10003468, 0.10003826, 0.1000327 , 0.10003903,\n",
       "       0.10002632, 0.10002373, 0.10003514, 0.10003568, 0.10003533,\n",
       "       0.10002659, 0.10003964, 0.10003845, 0.10003135, 0.10004984,\n",
       "       0.10003829, 0.100042  , 0.1000361 , 0.10003198, 0.10003086,\n",
       "       0.10004494, 0.10003964, 0.10002907, 0.10004636, 0.10003095,\n",
       "       0.10003546, 0.10002636, 0.10002401, 0.10003907, 0.10003731,\n",
       "       0.10003925, 0.10003595, 0.10003267, 0.10003538, 0.10004106,\n",
       "       0.10003958, 0.10003122, 0.10004513, 0.10004382, 0.10003491,\n",
       "       0.10003046, 0.10003968, 0.10003873, 0.10001354, 0.10002866,\n",
       "       0.10003888, 0.10003656, 0.10003403, 0.10003912, 0.10003017,\n",
       "       0.10004114, 0.10004874, 0.10003465, 0.10003744, 0.1000334 ,\n",
       "       0.10004158, 0.10004598, 0.10003623, 0.10003381, 0.1000467 ,\n",
       "       0.1000387 , 0.10002888, 0.10003868, 0.10003997, 0.10002818])"
      ]
     },
     "execution_count": 65,
     "metadata": {},
     "output_type": "execute_result"
    }
   ],
   "source": [
    "Att"
   ]
  },
  {
   "cell_type": "markdown",
   "id": "aafb95e2-03c7-4ab5-a603-d73d4f4890dd",
   "metadata": {},
   "source": [
    "### Algorithm: $\\tilde{V} \\gets \\text{Attention}(X, Z \\mid \\mathcal{W}_{qkv}, \\text{Mask})$\n",
    "\n",
    "**/* Computes a single (masked) self- or cross-attention head. */**\n",
    "\n",
    "---\n",
    "\n",
    "**Input**:  \n",
    "- $X \\in \\mathbb{R}^{d_x \\times \\ell_x}$, $Z \\in \\mathbb{R}^{d_z \\times \\ell_z}$: vector representations of the primary and context sequence.\n",
    "\n",
    "**Output**:  \n",
    "- $\\tilde{V} \\in \\mathbb{R}^{d_{\\text{out}} \\times \\ell_x}$: updated representations of tokens in $X$, folding in information from tokens in $Z$.\n",
    "\n",
    "**Parameters**:  \n",
    "- $\\mathcal{W}_{qkv}$ consisting of:  \n",
    "  - $W_q \\in \\mathbb{R}^{d_{\\text{attn}} \\times d_x}$, $b_q \\in \\mathbb{R}^{d_{\\text{attn}}}$  \n",
    "  - $W_k \\in \\mathbb{R}^{d_{\\text{attn}} \\times d_z}$, $b_k \\in \\mathbb{R}^{d_{\\text{attn}}}$  \n",
    "  - $W_v \\in \\mathbb{R}^{d_{\\text{out}} \\times d_z}$, $b_v \\in \\mathbb{R}^{d_{\\text{out}}}$  \n",
    "\n",
    "**Hyperparameters**:  \n",
    "- $\\text{Mask} \\in \\{0, 1\\}^{\\ell_z \\times \\ell_x}$, $\\uparrow^{(3)}$\n",
    "\n",
    "---\n",
    "\n",
    "**Steps**:\n",
    "\n",
    "1. $Q \\gets W_q X + b_q 1^\\top \\quad$ [Query $\\in \\mathbb{R}^{d_{\\text{attn}} \\times \\ell_x}$]\n",
    "2. $K \\gets W_k Z + b_k 1^\\top \\quad$ [Key $\\in \\mathbb{R}^{d_{\\text{attn}} \\times \\ell_z}$]\n",
    "3. $V \\gets W_v Z + b_v 1^\\top \\quad$ [Value $\\in \\mathbb{R}^{d_{\\text{out}} \\times \\ell_z}$]\n",
    "4. $S \\gets K^\\top Q \\quad$ [Score $\\in \\mathbb{R}^{\\ell_z \\times \\ell_x}$]\n",
    "5. $\\forall t_z, t_x, \\text{ if } \\neg \\text{Mask}[t_z, t_x] \\text{ then } S[t_z, t_x] \\gets -\\infty$\n",
    "6. Return $\\tilde{V} = V \\cdot \\text{softmax}(S / \\sqrt{d_{\\text{attn}}})$\n"
   ]
  },
  {
   "cell_type": "code",
   "execution_count": 85,
   "id": "aff16888-1b61-4df8-9263-a6178f099baf",
   "metadata": {},
   "outputs": [],
   "source": [
    "dx = 100 # input token encoding dimension\n",
    "lx = 20 # input length\n",
    "dz = 100 # context token encoding dimension\n",
    "lz = 20 # context window length\n",
    "dout = 100 # output dimension\n",
    "dattn = 50 # attention dimension"
   ]
  },
  {
   "cell_type": "code",
   "execution_count": 111,
   "id": "d9e3fe14-8f91-41a2-84c6-2f3595239b04",
   "metadata": {},
   "outputs": [],
   "source": [
    "Wq = np.random.rand(dattn, dx)\n",
    "Wk = np.random.rand(dattn, dz)\n",
    "Wv = np.random.rand(dout, dz)\n",
    "bq = np.random.rand(dattn)\n",
    "bk = np.random.rand(dattn)\n",
    "bv = np.random.rand(dout)"
   ]
  },
  {
   "cell_type": "code",
   "execution_count": 163,
   "id": "a2e5ebf9-0330-4ba3-b077-7c56f9dfe46c",
   "metadata": {},
   "outputs": [],
   "source": [
    "def softmax(a):\n",
    "    a = np.exp(a)\n",
    "    col_sums = np.sum(a, axis=0)\n",
    "    for i in range(col_sums.shape[0]):\n",
    "        if col_sums[i]==0:\n",
    "            col_sums[i] = 1\n",
    "    a = a/col_sums\n",
    "    return a\n",
    "\n",
    "def masked_attention(X, Z, mask):\n",
    "    Q = np.matmul(Wq, X) + bq[:, np.newaxis]\n",
    "    K = np.matmul(Wk, Z) + bk[:, np.newaxis]\n",
    "    V = np.matmul(Wv, Z) + bv[:, np.newaxis]\n",
    "    Q, K, V = normalise(Q), normalise(K), normalise(V)\n",
    "    S = np.matmul(K.T, Q)\n",
    "    S *= mask\n",
    "    S = softmax(S/sqrt(dattn))\n",
    "    Vout = np.matmul(V,S)\n",
    "    return Vout"
   ]
  },
  {
   "cell_type": "code",
   "execution_count": 135,
   "id": "947ebab9-b87d-47ed-949b-955bd3342c6c",
   "metadata": {},
   "outputs": [],
   "source": [
    "X = np.random.rand(dx, lx)"
   ]
  },
  {
   "cell_type": "code",
   "execution_count": 89,
   "id": "67bc9da7-192a-4894-9605-85fc722a3d7f",
   "metadata": {},
   "outputs": [],
   "source": [
    "Z = np.random.rand(dz, lz)"
   ]
  },
  {
   "cell_type": "code",
   "execution_count": 90,
   "id": "4f29f57e-3962-4c9f-a684-21e487e54b21",
   "metadata": {},
   "outputs": [
    {
     "data": {
      "text/plain": [
       "(20, 20)"
      ]
     },
     "execution_count": 90,
     "metadata": {},
     "output_type": "execute_result"
    }
   ],
   "source": [
    "lz,lx"
   ]
  },
  {
   "cell_type": "code",
   "execution_count": 123,
   "id": "37a3c399-6d32-491d-98cb-6bef074b00ba",
   "metadata": {},
   "outputs": [],
   "source": [
    "mask = np.ones((lz,lx))"
   ]
  },
  {
   "cell_type": "code",
   "execution_count": 124,
   "id": "4bf65338-5dae-4871-80a7-73b3114976db",
   "metadata": {},
   "outputs": [],
   "source": [
    "m,n = mask.shape\n",
    "for i in range(m):\n",
    "    for j in range(n):\n",
    "        if i>=j:\n",
    "            mask[i,j] = -np.inf"
   ]
  },
  {
   "cell_type": "code",
   "execution_count": 151,
   "id": "849a4b09-19aa-446b-a591-81a542bf2308",
   "metadata": {},
   "outputs": [
    {
     "data": {
      "text/plain": [
       "array([-inf, -inf, -inf, -inf, -inf, -inf, -inf, -inf, -inf,   1.,   1.,\n",
       "         1.,   1.,   1.,   1.,   1.,   1.,   1.,   1.,   1.])"
      ]
     },
     "execution_count": 151,
     "metadata": {},
     "output_type": "execute_result"
    }
   ],
   "source": [
    "mask[8,:]"
   ]
  },
  {
   "cell_type": "code",
   "execution_count": 164,
   "id": "9a0d93a8-a96f-4880-bd70-f7bf4d28a1eb",
   "metadata": {},
   "outputs": [],
   "source": [
    "mask_Att = masked_attention(X, Z, mask)"
   ]
  },
  {
   "cell_type": "code",
   "execution_count": 166,
   "id": "dc408f2c-96ef-45f3-8a46-d55c43064362",
   "metadata": {},
   "outputs": [
    {
     "data": {
      "text/plain": [
       "array([[0.        , 0.00921922, 0.00925963, ..., 0.00935413, 0.00936589,\n",
       "        0.0093575 ],\n",
       "       [0.        , 0.0089599 , 0.00919631, ..., 0.00899994, 0.00898594,\n",
       "        0.00896961],\n",
       "       [0.        , 0.0106756 , 0.01061519, ..., 0.01036584, 0.01034745,\n",
       "        0.01034312],\n",
       "       ...,\n",
       "       [0.        , 0.01091861, 0.01055166, ..., 0.01092468, 0.01088339,\n",
       "        0.010875  ],\n",
       "       [0.        , 0.01128569, 0.01098261, ..., 0.01075181, 0.01073719,\n",
       "        0.01075071],\n",
       "       [0.        , 0.01079543, 0.01090798, ..., 0.01078401, 0.01080107,\n",
       "        0.01077932]])"
      ]
     },
     "execution_count": 166,
     "metadata": {},
     "output_type": "execute_result"
    }
   ],
   "source": [
    "mask_Att"
   ]
  },
  {
   "cell_type": "code",
   "execution_count": null,
   "id": "c9443b4f-165d-423e-af8d-2792e24f9473",
   "metadata": {},
   "outputs": [],
   "source": []
  },
  {
   "cell_type": "code",
   "execution_count": null,
   "id": "27ef418b-64ff-47d1-acae-bad9f085f627",
   "metadata": {},
   "outputs": [],
   "source": []
  },
  {
   "cell_type": "code",
   "execution_count": null,
   "id": "13add81d-08a6-4cc6-9183-74f40d0b75ec",
   "metadata": {},
   "outputs": [],
   "source": []
  },
  {
   "cell_type": "code",
   "execution_count": null,
   "id": "b46e50a1-1395-42c8-ba9e-2a7f2041d719",
   "metadata": {},
   "outputs": [],
   "source": []
  },
  {
   "cell_type": "code",
   "execution_count": null,
   "id": "0691bd44-edee-4857-a324-28cc48679325",
   "metadata": {},
   "outputs": [],
   "source": []
  },
  {
   "cell_type": "code",
   "execution_count": null,
   "id": "1fca41a6-7c43-4c94-a822-7132e4551b42",
   "metadata": {},
   "outputs": [],
   "source": []
  }
 ],
 "metadata": {
  "kernelspec": {
   "display_name": "Python 3 (ipykernel)",
   "language": "python",
   "name": "python3"
  },
  "language_info": {
   "codemirror_mode": {
    "name": "ipython",
    "version": 3
   },
   "file_extension": ".py",
   "mimetype": "text/x-python",
   "name": "python",
   "nbconvert_exporter": "python",
   "pygments_lexer": "ipython3",
   "version": "3.10.7"
  }
 },
 "nbformat": 4,
 "nbformat_minor": 5
}
